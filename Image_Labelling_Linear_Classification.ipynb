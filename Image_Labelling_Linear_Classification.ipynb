{
 "cells": [
  {
   "cell_type": "markdown",
   "metadata": {},
   "source": [
    "# Import Necessary Library"
   ]
  },
  {
   "cell_type": "code",
   "execution_count": 1,
   "metadata": {},
   "outputs": [],
   "source": [
    "# Importing Libraries for Data Handling and Analysis\n",
    "\n",
    "# NumPy for numerical operations and array handling\n",
    "import numpy as np\n",
    "\n",
    "# Pandas for data manipulation and analysis\n",
    "import pandas as pd\n",
    "\n",
    "# Importing Libraries for Machine Learning\n",
    "\n",
    "# scikit-learn (sklearn) for machine learning tools and algorithms\n",
    "from sklearn.model_selection import train_test_split\n",
    "from sklearn.linear_model import LogisticRegression\n",
    "from sklearn.preprocessing import LabelEncoder\n",
    "\n",
    "# Optional: Uncomment the next block to install 'category_encoders' if not already installed\n",
    "# try:\n",
    "#     import category_encoders as ce\n",
    "# except:\n",
    "#     %pip install category_encoders\n",
    "\n",
    "# Importing Libraries for Data Visualization\n",
    "\n",
    "# Matplotlib for creating plots and visualizations\n",
    "import matplotlib.pyplot as plt\n",
    "\n",
    "# Importing Libraries for Computer Vision and Image Processing\n",
    "\n",
    "# OpenCV (cv2) for computer vision tasks and image processing\n",
    "import cv2\n",
    "\n",
    "# scikit-image (skimage) for image processing and computer vision utilities\n",
    "import skimage.transform as skimgtran\n",
    "import skimage.io as skimgio\n",
    "import skimage.color as skimgcolor\n",
    "\n",
    "# Operating System Functions\n",
    "\n",
    "# 'os' module for operating system-related functions\n",
    "import os\n",
    "\n",
    "# Setting a random seed for reproducibility\n",
    "np.random.seed(42)\n"
   ]
  },
  {
   "cell_type": "markdown",
   "metadata": {},
   "source": [
    "# User-Defined Functions and Classes"
   ]
  },
  {
   "cell_type": "code",
   "execution_count": 2,
   "metadata": {},
   "outputs": [],
   "source": [
    "class evaluate_classification_model:\n",
    "    \"\"\"\n",
    "    A class for evaluating the performance of a binary classification model.\n",
    "\n",
    "    Attributes:\n",
    "        TP (int): True Positives counter.\n",
    "        FP (int): False Positives counter.\n",
    "        TN (int): True Negatives counter.\n",
    "        FN (int): False Negatives counter.\n",
    "\n",
    "    Methods:\n",
    "        __init__(self, y_true, y_pred):\n",
    "            Initializes the evaluation counters based on actual and predicted labels.\n",
    "\n",
    "        precision(self):\n",
    "            Calculates and returns the precision score.\n",
    "\n",
    "        recall(self):\n",
    "            Calculates and returns the recall score.\n",
    "\n",
    "        accuracy(self):\n",
    "            Calculates and returns the accuracy score.\n",
    "\n",
    "        f1_score(self):\n",
    "            Calculates and returns the F1 score.\n",
    "\n",
    "        conf_matrix(self, class_1=None, class_0=None):\n",
    "            Generates and displays a confusion matrix heatmap using Matplotlib.\n",
    "\n",
    "    Usage:\n",
    "        # Initialize the evaluator with actual and predicted labels\n",
    "        evaluator = evaluate_classification_model(y_true, y_pred)\n",
    "\n",
    "        # Calculate and print various evaluation metrics\n",
    "        print(\"Precision:\", evaluator.precision())\n",
    "        print(\"Recall:\", evaluator.recall())\n",
    "        print(\"Accuracy:\", evaluator.accuracy())\n",
    "        print(\"F1 Score:\", evaluator.f1_score())\n",
    "\n",
    "        # Display the confusion matrix\n",
    "        evaluator.conf_matrix()\n",
    "    \"\"\"\n",
    "    \n",
    "    def __init__(self, y_true, y_pred):\n",
    "        \"\"\"\n",
    "        Initializes the evaluation counters based on actual and predicted labels.\n",
    "\n",
    "        Args:\n",
    "            y_true (list): List of true labels (0 or 1).\n",
    "            y_pred (list): List of predicted labels (0 or 1).\n",
    "        \"\"\"\n",
    "        # initialize counters for TP, FP, TN, and FN\n",
    "        self.TP = 0\n",
    "        self.FP = 0\n",
    "        self.TN = 0\n",
    "        self.FN = 0\n",
    "        # calculate TP, FP, TN, and FN\n",
    "        for true, pred in zip(y_true, y_pred):\n",
    "            if true == 1 and pred == 1:\n",
    "                self.TP += 1\n",
    "            elif true == 0 and pred == 1:\n",
    "                self.FP += 1\n",
    "            elif true == 1 and pred == 0:\n",
    "                self.FN += 1\n",
    "            elif true == 0 and pred == 0:\n",
    "                self.TN += 1\n",
    "\n",
    "    def precision(self):\n",
    "        \"\"\"\n",
    "        Calculates and returns the precision score.\n",
    "\n",
    "        Returns:\n",
    "            float: Precision score.\n",
    "        \"\"\"\n",
    "        return (self.TP / (self.TP + self.FP))\n",
    "\n",
    "    def recall(self):\n",
    "        \"\"\"\n",
    "        Calculates and returns the recall score.\n",
    "\n",
    "        Returns:\n",
    "            float: Recall score.\n",
    "        \"\"\"\n",
    "        return (self.TP / (self.TP + self.FN))\n",
    "\n",
    "    def accuracy(self):\n",
    "        \"\"\"\n",
    "        Calculates and returns the accuracy score.\n",
    "\n",
    "        Returns:\n",
    "            float: Accuracy score.\n",
    "        \"\"\"\n",
    "        return ((self.TP + self.TN) / (self.TN + self.FP + self.TP + self.FN))\n",
    "\n",
    "    def f1_score(self):\n",
    "        \"\"\"\n",
    "        Calculates and returns the F1 score.\n",
    "\n",
    "        Returns:\n",
    "            float: F1 score.\n",
    "        \"\"\"\n",
    "        pre = self.precision()\n",
    "        rec = self.recall()\n",
    "        return ((2 * pre * rec) / (pre + rec))\n",
    "\n",
    "    def conf_matrix(self, class_1=None, class_0=None):\n",
    "        \"\"\"\n",
    "        Generates and displays a confusion matrix heatmap using Matplotlib.\n",
    "\n",
    "        Args:\n",
    "            class_1 (str, optional): Name of class 1 (positive class). Default is 'Class 1'.\n",
    "            class_0 (str, optional): Name of class 0 (negative class). Default is 'Class 0'.\n",
    "        \"\"\"\n",
    "        # create a confusion matrix using TP (True Positives), FP (False Positives), FN (False Negatives), and TN (True Negatives)\n",
    "        confusion_matrix = np.array([[self.TP, self.FP], [self.FN, self.TN]])\n",
    "\n",
    "        # define class labels based on provided class names or use default 'Class 1' and 'Class 0'\n",
    "        if class_1 is None and class_0 is None:\n",
    "            class_labels = ['Class 1', 'Class 0']\n",
    "        else:\n",
    "            class_labels = [class_1, class_0]\n",
    "\n",
    "        # create a figure and axis for the heatmap\n",
    "        fig, ax = plt.subplots()\n",
    "\n",
    "        # plot the heatmap of the confusion matrix using a blue colormap\n",
    "        cax = ax.matshow(confusion_matrix, cmap=plt.cm.Blues)\n",
    "\n",
    "        # uncomment the next line to add a colorbar to the plot\n",
    "        \n",
    "        # plt.colorbar(cax)\n",
    "        # Set labels for the x and y axes based on class labels\n",
    "        plt.xticks(np.arange(len(class_labels)), class_labels)\n",
    "        plt.yticks(np.arange(len(class_labels)), class_labels)\n",
    "\n",
    "        # display the values in the heatmap at their respective positions\n",
    "        for i in range(len(class_labels)):\n",
    "            for j in range(len(class_labels)):\n",
    "                plt.text(j, i, str(confusion_matrix[i, j]), va='center', ha='center', color='black', fontsize=14)\n",
    "\n",
    "        # set labels for the x and y axes\n",
    "        plt.xlabel('Predicted')\n",
    "        plt.ylabel('Actual')\n",
    "\n",
    "        # add a title to the confusion matrix plot\n",
    "        ax.set_title(\"Confusion Matrix\", loc='center', fontsize=18)\n",
    "\n",
    "        # display the plot\n",
    "        plt.show()\n"
   ]
  },
  {
   "cell_type": "markdown",
   "metadata": {},
   "source": [
    "# Prepare Datasets"
   ]
  },
  {
   "cell_type": "markdown",
   "metadata": {},
   "source": [
    "## Datasets Location"
   ]
  },
  {
   "cell_type": "code",
   "execution_count": 3,
   "metadata": {},
   "outputs": [],
   "source": [
    "# Dictionary to store the file paths for different datasets\n",
    "dataset_Location = {\n",
    "    '4_dataset_loc': \"./dataset/English/Img/GoodImg/Bmp/Sample005\",\n",
    "    'A_dataset_loc': \"./dataset/English/Img/GoodImg/Bmp/Sample011\",\n",
    "    'u_dataset_loc': \"./dataset/English/Img/GoodImg/Bmp/Sample057\",\n",
    "    'H_dataset_loc': \"./dataset/English/Img/GoodImg/Bmp/Sample018\"\n",
    "}"
   ]
  },
  {
   "cell_type": "markdown",
   "metadata": {},
   "source": [
    "## Save each Images Locations"
   ]
  },
  {
   "cell_type": "markdown",
   "metadata": {},
   "source": [
    "> In this cell, we concatenate the dataset path with each image name and save the results in a dictionary."
   ]
  },
  {
   "cell_type": "code",
   "execution_count": 4,
   "metadata": {},
   "outputs": [],
   "source": [
    "# Organize image files into groups based on character/digit labels in a dictionary.\n",
    "datasets_images = {data_name[:-4]: os.listdir(loc) for data_name, loc in dataset_Location.items()}"
   ]
  },
  {
   "cell_type": "markdown",
   "metadata": {},
   "source": [
    "## Load and store datasets."
   ]
  },
  {
   "cell_type": "markdown",
   "metadata": {},
   "source": [
    "> In this cell, we read images from their respective locations as NumPy arrays and then convert these images to grayscale."
   ]
  },
  {
   "cell_type": "code",
   "execution_count": 5,
   "metadata": {},
   "outputs": [],
   "source": [
    "# Creating a dictionary 'datasets_numpy' to store images as NumPy arrays \n",
    "datasets_numpy = {}\n",
    "imgs_size=tuple()\n",
    "# Iterate through 'datasets_images' to load images and organize them by character/digit labels\n",
    "for dataset, image_names in datasets_images.items():\n",
    "    \n",
    "    data_name = dataset.split('_')[0]\n",
    "    # Load images using scikit-image and store them in a list\n",
    "    RGP_np_image_list = [skimgio.imread(os.path.join(dataset_Location[\"_\".join([dataset, 'loc'])], count)) for count in image_names]\n",
    "    #convert the images form RGB to gray scale\n",
    "    Grey_np_image_list=[skimgcolor.rgb2gray(rgp_img) for  rgp_img in RGP_np_image_list]   \n",
    "    # Assign the list of images to the corresponding label in 'datasets_numpy'\n",
    "    datasets_numpy[data_name] = Grey_np_image_list\n",
    "    # Clear the Temps lists\n",
    "    RGP_np_image_list=[]\n",
    "    Grey_np_image_list=[]\n"
   ]
  },
  {
   "cell_type": "markdown",
   "metadata": {},
   "source": [
    "> To ensure uniform image sizes, we seach for the smallest dimensions and reshape all images accordingly."
   ]
  },
  {
   "cell_type": "code",
   "execution_count": 6,
   "metadata": {},
   "outputs": [
    {
     "name": "stdout",
     "output_type": "stream",
     "text": [
      "Image Sizes = (13 x 15)\n"
     ]
    }
   ],
   "source": [
    "# Determine the Minimum Image Size\n",
    "\n",
    "# Initialize the minimum image size to (1000, 1000)\n",
    "min_size = (1000, 1000)\n",
    "\n",
    "# Iterate through the datasets to find the minimum image size\n",
    "for dataset_name, numpy_list in datasets_numpy.items():\n",
    "    for img in numpy_list:\n",
    "        # Check if the current image's shape is smaller than the current minimum size\n",
    "        if img.shape < min_size:\n",
    "            min_size = img.shape\n",
    "\n",
    "# Resize the Images to the Minimum Size\n",
    "\n",
    "# Iterate through the datasets and resize images to the determined minimum size\n",
    "for dataset_name, numpy_list in datasets_numpy.items():\n",
    "    datasets_numpy[dataset_name] = [skimgtran.resize(img, min_size) for img in numpy_list]\n",
    "\n",
    "# Update the variable 'imgs_size' with the determined minimum size\n",
    "imgs_size = min_size\n",
    "\n",
    "# Print the image sizes as (width x height)\n",
    "print(f\"Image Sizes = ({imgs_size[0]} x {imgs_size[1]})\")\n"
   ]
  },
  {
   "cell_type": "markdown",
   "metadata": {},
   "source": [
    "## Dataset as dataframe"
   ]
  },
  {
   "cell_type": "markdown",
   "metadata": {},
   "source": [
    "> For enhanced data handling and organization, we construct a DataFrame where each row symbolizes an image. Additionally, we introduce a ```label``` column to signify the character or digit linked to each respective image."
   ]
  },
  {
   "cell_type": "code",
   "execution_count": 7,
   "metadata": {},
   "outputs": [],
   "source": [
    "# Create an empty DataFrame with columns representing pixel values\n",
    "df = pd.DataFrame(columns=range(imgs_size[0] * imgs_size[1]))\n",
    "\n",
    "# Iterate through the datasets in datasets_numpy\n",
    "for data_name, img_list in datasets_numpy.items():\n",
    "    \n",
    "    # Iterate through the list of images for each data_name\n",
    "    for pixs in img_list:\n",
    "        \n",
    "        # Flatten the pixel values from a 2D array to a 1D array\n",
    "        for pix in pixs.reshape(1, -1):\n",
    "            \n",
    "            # Create a temporary DataFrame containing the flattened pixel values\n",
    "            df_tem = pd.DataFrame([pix])\n",
    "            \n",
    "            # Add a 'label' column with the value of 'data_name'\n",
    "            df_tem['label'] = data_name\n",
    "            \n",
    "            # Concatenate the temporary DataFrame with the main DataFrame 'df'\n",
    "            df = pd.concat([df, df_tem])\n",
    "\n",
    "# Reset the index and drop the old index column to create the final DataFrame\n",
    "df = df.reset_index(drop=True)\n"
   ]
  },
  {
   "cell_type": "markdown",
   "metadata": {},
   "source": [
    "# Conversion of Data Labels"
   ]
  },
  {
   "cell_type": "markdown",
   "metadata": {},
   "source": [
    "> To prepare this DataFrame for our training process, we will convert the ```label``` column from a string data type to a numerical data type using label encoding."
   ]
  },
  {
   "cell_type": "code",
   "execution_count": 8,
   "metadata": {},
   "outputs": [
    {
     "name": "stdout",
     "output_type": "stream",
     "text": [
      "Converted the labels from ['4', 'A', 'u', 'H'] to [0, 1, 3, 2]\n"
     ]
    }
   ],
   "source": [
    "# Initialize a LabelEncoder object for converting categorical labels to numerical values\n",
    "label_encoder = LabelEncoder()\n",
    "\n",
    "# Use the LabelEncoder to transform the 'label' column and create a new 'encoding_label' column\n",
    "df['encoding_label'] = label_encoder.fit_transform(df['label'])\n",
    "# Print a message indicating the label conversion\n",
    "\n",
    "encodig_dic={k:v for k,v in zip(df['label'].unique(),df['encoding_label'].unique())}\n",
    "\n",
    "print(f\"Converted the labels from {list(encodig_dic.keys())} to {list(encodig_dic.values())}\")\n"
   ]
  },
  {
   "cell_type": "code",
   "execution_count": 9,
   "metadata": {},
   "outputs": [
    {
     "data": {
      "text/plain": [
       "<matplotlib.image.AxesImage at 0x7f8083e5a910>"
      ]
     },
     "execution_count": 9,
     "metadata": {},
     "output_type": "execute_result"
    },
    {
     "data": {
      "image/png": "[encoded data removed]",
      "text/plain": [
       "<Figure size 640x480 with 1 Axes>"
      ]
     },
     "metadata": {},
     "output_type": "display_data"
    }
   ],
   "source": [
    "# diplay the charater 'A'\n",
    "skimgio.imshow(np.array(df.iloc[60,:-2],dtype=np.float32).reshape(imgs_size))"
   ]
  },
  {
   "cell_type": "markdown",
   "metadata": {},
   "source": [
    "# Train Binary Classification Model and Evaluate Performance"
   ]
  },
  {
   "cell_type": "markdown",
   "metadata": {},
   "source": [
    "## Assumption for Model:\n",
    "> In this model, we consider 'Class 4' as 'Class 1' and 'Class A' as 'Class 0'.\n"
   ]
  },
  {
   "cell_type": "code",
   "execution_count": 10,
   "metadata": {},
   "outputs": [],
   "source": [
    "# Combine samples labeled as '4' and 'A' for binary classification\n",
    "train_binary_classification = pd.concat([df[df['label'] == '4'], df[df['label'] == 'A']]).reset_index(drop=True)\n",
    "\n",
    "# Split the data into training and testing sets\n",
    "x_train, x_test, y_train, y_test = train_test_split(train_binary_classification.iloc[:, :-2],\n",
    "                                                    train_binary_classification.iloc[:, -2],\n",
    "                                                    test_size=0.3, train_size=0.7, shuffle=True)\n",
    "\n",
    "# Reset the index for training and testing dataframes\n",
    "x_train = x_train.reset_index(drop=True)\n",
    "x_test = x_test.reset_index(drop=True)\n",
    "\n",
    "# Flatten the target labels\n",
    "y_train = np.ravel(y_train)\n",
    "y_test = np.ravel(y_test)\n",
    "\n",
    "# Create binary labels for '4' (True) and other labels (False) in training and testing sets\n",
    "y_train_4 = np.array([True if count == '4' else False for count in y_train])\n",
    "y_test_4 = np.array([True if count == '4' else False for count in y_test])\n"
   ]
  },
  {
   "cell_type": "code",
   "execution_count": 11,
   "metadata": {},
   "outputs": [],
   "source": [
    "# Create a Binary Classification Model using Logistic Regression\n",
    "binary_classification_model = LogisticRegression()\n",
    "\n",
    "# Train the Binary Classification Model on the training data\n",
    "binary_classification_model_his = binary_classification_model.fit(x_train, y_train_4)\n"
   ]
  },
  {
   "cell_type": "code",
   "execution_count": 12,
   "metadata": {},
   "outputs": [
    {
     "name": "stdout",
     "output_type": "stream",
     "text": [
      "Precision: 0.8\n",
      "Recall: 0.26666666666666666\n",
      "Accuracy: 0.9340659340659341\n",
      "F1 Score: 0.4\n"
     ]
    },
    {
     "data": {
      "image/png": "[encoded data removed]",
      "text/plain": [
       "<Figure size 640x480 with 1 Axes>"
      ]
     },
     "metadata": {},
     "output_type": "display_data"
    }
   ],
   "source": [
    "y_pred=binary_classification_model.predict(x_test)\n",
    "# Initialize the evaluator with actual and predicted labels\n",
    "evaluator = evaluate_classification_model(y_test_4, y_pred)\n",
    "# Calculate and print various evaluation metrics\n",
    "print(\"Precision:\", evaluator.precision())\n",
    "print(\"Recall:\", evaluator.recall())\n",
    "print(\"Accuracy:\", evaluator.accuracy())\n",
    "print(\"F1 Score:\", evaluator.f1_score())\n",
    "# Display the confusion matrix\n",
    "evaluator.conf_matrix()"
   ]
  }
 ],
 "metadata": {
  "kernelspec": {
   "display_name": "CV_env",
   "language": "python",
   "name": "python3"
  },
  "language_info": {
   "codemirror_mode": {
    "name": "ipython",
    "version": 3
   },
   "file_extension": ".py",
   "mimetype": "text/x-python",
   "name": "python",
   "nbconvert_exporter": "python",
   "pygments_lexer": "ipython3",
   "version": "3.11.5"
  },
  "orig_nbformat": 4
 },
 "nbformat": 4,
 "nbformat_minor": 2
}
